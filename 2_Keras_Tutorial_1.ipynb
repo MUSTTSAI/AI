{
  "nbformat": 4,
  "nbformat_minor": 0,
  "metadata": {
    "colab": {
      "name": "2_Keras_Tutorial_1.ipynb",
      "provenance": []
    },
    "kernelspec": {
      "name": "python3",
      "display_name": "Python 3"
    }
  },
  "cells": [
    {
      "cell_type": "code",
      "metadata": {
        "id": "bhtbMwWDjQSc",
        "colab_type": "code",
        "colab": {
          "base_uri": "https://localhost:8080/",
          "height": 493
        },
        "outputId": "3362a992-67b2-4758-800b-f13676ad0672"
      },
      "source": [
        "import keras\n",
        "from keras.models import Sequential\n",
        "from keras.layers import Dense\n",
        "\n",
        "import numpy as np\n",
        "data = np.random.random((1000, 10)) #隨機產生1000筆資料，每筆資料1包含十個float數字\n",
        "labels = np.random.randint(2, size=(1000, 1)) #隨機產生1000筆資料，每筆資料上限為2(意思就是0 或 1)\n",
        "print(np.shape(data))\n",
        "print(data[0])\n",
        "print(np.shape(labels))\n",
        "print(labels[0])\n",
        "\n",
        "model = Sequential()\n",
        "model.add(Dense(32, activation='relu', input_dim=10))\n",
        "model.add(Dense(1, activation='sigmoid'))\n",
        "model.compile(optimizer='rmsprop', loss='binary_crossentropy', metrics=['accuracy'])\n",
        "\n",
        "model.fit(data, labels, epochs=10, batch_size=32)\n",
        "\n",
        "score=model.evaluate(data, labels)\n",
        "print(score[1])"
      ],
      "execution_count": 1,
      "outputs": [
        {
          "output_type": "stream",
          "text": [
            "Using TensorFlow backend.\n"
          ],
          "name": "stderr"
        },
        {
          "output_type": "stream",
          "text": [
            "(1000, 10)\n",
            "[0.03625023 0.59644899 0.4120779  0.228932   0.30452848 0.24694324\n",
            " 0.17370754 0.85037683 0.75590501 0.95409963]\n",
            "(1000, 1)\n",
            "[0]\n",
            "Epoch 1/10\n",
            "1000/1000 [==============================] - 0s 307us/step - loss: 0.6936 - accuracy: 0.5310\n",
            "Epoch 2/10\n",
            "1000/1000 [==============================] - 0s 33us/step - loss: 0.6919 - accuracy: 0.5360\n",
            "Epoch 3/10\n",
            "1000/1000 [==============================] - 0s 32us/step - loss: 0.6909 - accuracy: 0.5430\n",
            "Epoch 4/10\n",
            "1000/1000 [==============================] - 0s 35us/step - loss: 0.6901 - accuracy: 0.5410\n",
            "Epoch 5/10\n",
            "1000/1000 [==============================] - 0s 34us/step - loss: 0.6896 - accuracy: 0.5390\n",
            "Epoch 6/10\n",
            "1000/1000 [==============================] - 0s 35us/step - loss: 0.6887 - accuracy: 0.5360\n",
            "Epoch 7/10\n",
            "1000/1000 [==============================] - 0s 32us/step - loss: 0.6885 - accuracy: 0.5370\n",
            "Epoch 8/10\n",
            "1000/1000 [==============================] - 0s 35us/step - loss: 0.6879 - accuracy: 0.5490\n",
            "Epoch 9/10\n",
            "1000/1000 [==============================] - 0s 35us/step - loss: 0.6879 - accuracy: 0.5360\n",
            "Epoch 10/10\n",
            "1000/1000 [==============================] - 0s 34us/step - loss: 0.6875 - accuracy: 0.5370\n",
            "1000/1000 [==============================] - 0s 34us/step\n",
            "0.5509999990463257\n"
          ],
          "name": "stdout"
        }
      ]
    }
  ]
}