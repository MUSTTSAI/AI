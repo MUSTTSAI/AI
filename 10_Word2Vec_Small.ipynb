{
  "nbformat": 4,
  "nbformat_minor": 0,
  "metadata": {
    "colab": {
      "name": "10_Word2Vec_Small.ipynb",
      "provenance": []
    },
    "kernelspec": {
      "name": "python3",
      "display_name": "Python 3"
    }
  },
  "cells": [
    {
      "cell_type": "code",
      "metadata": {
        "id": "bvx_S-WupH5L",
        "colab_type": "code",
        "colab": {
          "base_uri": "https://localhost:8080/",
          "height": 462
        },
        "outputId": "1c97b236-b49a-42b4-e8f4-34ff3d21f0c3"
      },
      "source": [
        "!wget https://raw.githubusercontent.com/joshhu/must_examples/master/my_seg_small.txt\n",
        "\n",
        "\n",
        "import sys\n",
        "from gensim.models import word2vec\n",
        "from gensim import models\n",
        "\n",
        "sentences = word2vec.LineSentence(\"my_seg_small.txt\")\n",
        "model = word2vec.Word2Vec(sentences, size=5, min_count=1, negative=10)\n",
        "\n",
        "model.save('word2vec.model')\n",
        "model.wv.save_word2vec_format('word2vec.model', binary = False)\n",
        "print('done')\n",
        "\n",
        "\n",
        "input_str = \"北京\"\n",
        "res = model.wv.most_similar(input_str)\n",
        "for item in res: \n",
        "      print(item[0] + ':' + str(item[1]))"
      ],
      "execution_count": 1,
      "outputs": [
        {
          "output_type": "stream",
          "text": [
            "--2020-04-23 01:29:05--  https://raw.githubusercontent.com/joshhu/must_examples/master/my_seg_small.txt\n",
            "Resolving raw.githubusercontent.com (raw.githubusercontent.com)... 151.101.0.133, 151.101.64.133, 151.101.128.133, ...\n",
            "Connecting to raw.githubusercontent.com (raw.githubusercontent.com)|151.101.0.133|:443... connected.\n",
            "HTTP request sent, awaiting response... 200 OK\n",
            "Length: 398 [text/plain]\n",
            "Saving to: ‘my_seg_small.txt’\n",
            "\n",
            "\rmy_seg_small.txt      0%[                    ]       0  --.-KB/s               \rmy_seg_small.txt    100%[===================>]     398  --.-KB/s    in 0s      \n",
            "\n",
            "2020-04-23 01:29:05 (47.7 MB/s) - ‘my_seg_small.txt’ saved [398/398]\n",
            "\n",
            "done\n",
            "上海:0.8390682339668274\n",
            "吃下午茶:0.5936704277992249\n",
            "下午茶:0.2509027421474457\n",
            "玩:0.21702782809734344\n",
            "台北:0.21024003624916077\n",
            "帝都:0.1440657675266266\n",
            "飯:0.07355239987373352\n",
            "吃:0.009690120816230774\n",
            "烤鴨:-0.35467538237571716\n"
          ],
          "name": "stdout"
        },
        {
          "output_type": "stream",
          "text": [
            "/usr/local/lib/python3.6/dist-packages/smart_open/smart_open_lib.py:253: UserWarning: This function is deprecated, use smart_open.open instead. See the migration notes for details: https://github.com/RaRe-Technologies/smart_open/blob/master/README.rst#migrating-to-the-new-open-function\n",
            "  'See the migration notes for details: %s' % _MIGRATION_NOTES_URL\n",
            "/usr/local/lib/python3.6/dist-packages/gensim/matutils.py:737: FutureWarning: Conversion of the second argument of issubdtype from `int` to `np.signedinteger` is deprecated. In future, it will be treated as `np.int64 == np.dtype(int).type`.\n",
            "  if np.issubdtype(vec.dtype, np.int):\n"
          ],
          "name": "stderr"
        }
      ]
    }
  ]
}